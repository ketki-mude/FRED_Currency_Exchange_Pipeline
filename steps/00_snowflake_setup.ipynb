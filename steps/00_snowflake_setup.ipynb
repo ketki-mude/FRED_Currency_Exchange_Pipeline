{
 "cells": [
  {
   "cell_type": "code",
   "execution_count": null,
   "metadata": {},
   "outputs": [],
   "source": [
    "SET GITHUB_SECRET_USERNAME = 'ketki-mude';\n",
    "SET GITHUB_SECRET_PASSWORD = 'xxxx';\n",
    "SET GITHUB_URL_PREFIX = 'https://github.com/ketki-mude';\n",
    "SET GITHUB_REPO_ORIGIN = 'https://github.com/ketki-mude/FRED_Currency_Exchange_Pipeline.git';"
   ]
  },
  {
   "cell_type": "code",
   "execution_count": null,
   "metadata": {},
   "outputs": [],
   "source": [
    "USE ROLE ACCOUNTADMIN; \n",
    "\n",
    "SET MY_USER = CURRENT_USER();\n",
    "CREATE OR REPLACE ROLE FRED_ROLE;\n",
    "GRANT ROLE FRED_ROLE TO ROLE SYSADMIN;\n",
    "GRANT ROLE FRED_ROLE TO USER IDENTIFIER($MY_USER);\n",
    "\n",
    "GRANT EXECUTE TASK ON ACCOUNT TO ROLE FRED_ROLE;\n",
    "GRANT MONITOR EXECUTION ON ACCOUNT TO ROLE FRED_ROLE;\n",
    "GRANT IMPORTED PRIVILEGES ON DATABASE SNOWFLAKE TO ROLE FRED_ROLE;\n",
    "\n",
    "-- Databases\n",
    "CREATE OR REPLACE DATABASE FRED_DB;\n",
    "GRANT OWNERSHIP ON DATABASE FRED_DB TO ROLE FRED_ROLE;\n",
    "\n",
    "-- Warehouses\n",
    "CREATE OR REPLACE WAREHOUSE FRED_WH WAREHOUSE_SIZE = XSMALL, AUTO_SUSPEND = 300, AUTO_RESUME= TRUE;\n",
    "GRANT OWNERSHIP ON WAREHOUSE FRED_WH TO ROLE FRED_ROLE;\n"
   ]
  },
  {
   "cell_type": "code",
   "execution_count": null,
   "metadata": {},
   "outputs": [],
   "source": [
    "USE ROLE ACCOUNTADMIN;\n",
    "USE WAREHOUSE FRED_WH;\n",
    "USE DATABASE FRED_DB;\n",
    "\n",
    "-- Schemas\n",
    "CREATE OR REPLACE SCHEMA INTEGRATIONS;\n",
    "\n",
    "\n",
    "CREATE OR REPLACE SECRET DEMO_GITHUB_SECRET\n",
    "  TYPE = password\n",
    "  USERNAME = $GITHUB_SECRET_USERNAME\n",
    "  PASSWORD = $GITHUB_SECRET_PASSWORD;\n",
    "\n",
    "CREATE OR REPLACE API INTEGRATION DEMO_GITHUB_API_INTEGRATION\n",
    "  API_PROVIDER = GIT_HTTPS_API\n",
    "  API_ALLOWED_PREFIXES = ($GITHUB_URL_PREFIX)\n",
    "  ALLOWED_AUTHENTICATION_SECRETS = (DEMO_GITHUB_SECRET)\n",
    "  ENABLED = TRUE;\n",
    "\n",
    "-- Git Repository\n",
    "CREATE OR REPLACE GIT REPOSITORY FRED_GIT_REPO\n",
    "  API_INTEGRATION = DEMO_GITHUB_API_INTEGRATION\n",
    "  GIT_CREDENTIALS = DEMO_GITHUB_SECRET\n",
    "  ORIGIN = $GITHUB_REPO_ORIGIN;"
   ]
  },
  {
   "cell_type": "code",
   "execution_count": null,
   "metadata": {},
   "outputs": [],
   "source": []
  },
  {
   "cell_type": "code",
   "execution_count": null,
   "metadata": {},
   "outputs": [],
   "source": [
    "USE ROLE ACCOUNTADMIN;\n",
    "USE WAREHOUSE FRED_WH;\n",
    "USE DATABASE FRED_DB;\n",
    "CREATE OR REPLACE SCHEMA EXTERNAL;\n",
    "\n",
    "CREATE OR REPLACE STORAGE INTEGRATION fred_s3_integration\n",
    "  TYPE = EXTERNAL_STAGE\n",
    "  STORAGE_PROVIDER = 'S3'\n",
    "  ENABLED = TRUE\n",
    "  STORAGE_AWS_ROLE_ARN = 'arn:aws:iam::699475925561:role/snowflake_s3_role'\n",
    "  STORAGE_ALLOWED_LOCATIONS = ('s3://fredcurrencyexhange/');\n",
    "GRANT USAGE ON INTEGRATION fred_s3_integration TO ROLE FRED_ROLE;\n",
    "GRANT USAGE ON SCHEMA EXTERNAL TO ROLE FRED_ROLE;\n",
    "GRANT ALL PRIVILEGES ON SCHEMA FRED_DB.EXTERNAL TO ROLE FRED_ROLE;\n",
    "\n",
    "-- Create the file format\n",
    "USE ROLE FRED_ROLE;\n",
    "USE WAREHOUSE FRED_WH;\n",
    "USE DATABASE FRED_DB;\n",
    "USE SCHEMA EXTERNAL;\n",
    "\n",
    "CREATE OR REPLACE FILE FORMAT CSV_FORMAT \n",
    "TYPE = 'CSV' \n",
    "FIELD_OPTIONALLY_ENCLOSED_BY = '\"' \n",
    "PARSE_HEADER = TRUE;\n"
   ]
  },
  {
   "cell_type": "code",
   "execution_count": null,
   "metadata": {},
   "outputs": [],
   "source": [
    "USE ROLE ACCOUNTADMIN;\n",
    "USE WAREHOUSE FRED_WH;\n",
    "USE SCHEMA FRED_DB.INTEGRATIONS;\n",
    "\n",
    "EXECUTE IMMEDIATE FROM @FRED_GIT_REPO/branches/main/scripts/noteboook_deploy.sql\n",
    "    USING (env => 'DEV', branch => 'main')"
   ]
  },
  {
   "cell_type": "code",
   "execution_count": null,
   "metadata": {},
   "outputs": [],
   "source": []
  }
 ],
 "metadata": {
  "kernelspec": {
   "display_name": "pythonenv3",
   "language": "python",
   "name": "python3"
  },
  "language_info": {
   "codemirror_mode": {
    "name": "ipython",
    "version": 3
   },
   "file_extension": ".py",
   "mimetype": "text/x-python",
   "name": "python",
   "nbconvert_exporter": "python",
   "pygments_lexer": "ipython3",
   "version": "3.9.19"
  }
 },
 "nbformat": 4,
 "nbformat_minor": 2
}
